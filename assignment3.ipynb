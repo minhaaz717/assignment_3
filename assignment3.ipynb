{
 "cells": [
  {
   "cell_type": "code",
   "execution_count": 7,
   "id": "284aacca",
   "metadata": {},
   "outputs": [
    {
     "name": "stdout",
     "output_type": "stream",
     "text": [
      "22333.333333333332\n",
      "32666.666666666668\n",
      "14000.0\n"
     ]
    }
   ],
   "source": [
    "class Employee:\n",
    "    count = 0\n",
    "    def __init__(self, name, family, salary, department):\n",
    "        self.name = name\n",
    "        self.family = family\n",
    "        self.salary = salary\n",
    "        self.department = department\n",
    "        Employee.count += 1\n",
    "    def averageSalary(self):\n",
    "        avg = self.salary / Employee.count\n",
    "        return avg\n",
    "\n",
    "class FulltimeEmployee(Employee):\n",
    "    def _init_(self, name, family, salary, department):\n",
    "        Employee._init_(self, name, family, salary, department)\n",
    "\n",
    "e1 = Employee(\"donny\", \"jessica\", 67000, \"Sales\")\n",
    "e2 = Employee(\"Maxwell\", \"Jim\", 98000, \"IT\")\n",
    "e3 = FulltimeEmployee(\"Samuel\", \"Smith\", 42000, \"HR\")\n",
    "\n",
    "print(e1.averageSalary())\n",
    "print(e2.averageSalary())\n",
    "print(e3.averageSalary())"
   ]
  },
  {
   "cell_type": "code",
   "execution_count": 6,
   "id": "0ba55fee",
   "metadata": {},
   "outputs": [
    {
     "name": "stdout",
     "output_type": "stream",
     "text": [
      "The original vector: [17.51643005  9.85223809  5.48569236  8.36035396  4.19614987  4.45548152\n",
      "  2.11292589  8.95254876 16.91829335  6.87651716  3.5759704   5.52342378\n",
      "  2.72718334  5.95175311 16.46571496 15.24252456  6.60498224  7.76130834\n",
      " 10.13098451 14.73256875]\n",
      "The reshaped vector before replace:  [[17.51643005  9.85223809  5.48569236  8.36035396  4.19614987]\n",
      " [ 4.45548152  2.11292589  8.95254876 16.91829335  6.87651716]\n",
      " [ 3.5759704   5.52342378  2.72718334  5.95175311 16.46571496]\n",
      " [15.24252456  6.60498224  7.76130834 10.13098451 14.73256875]]\n",
      "The reshaped vector after replace:  [[ 0.          9.85223809  5.48569236  8.36035396  4.19614987]\n",
      " [ 4.45548152  2.11292589  8.95254876  0.          6.87651716]\n",
      " [ 3.5759704   5.52342378  2.72718334  5.95175311  0.        ]\n",
      " [ 0.          6.60498224  7.76130834 10.13098451 14.73256875]]\n"
     ]
    }
   ],
   "source": [
    "import numpy as np\n",
    "\n",
    "# random vector of size 20 with float in the range 1-20\n",
    "vector = np.random.uniform(1,20,20)\n",
    "print(\"The original vector:\" ,vector)\n",
    "\n",
    "# reshape vector to 4 by 5\n",
    "vector_reshaped = vector.reshape(4,5)\n",
    "print(\"The reshaped vector before replace: \", vector_reshaped)\n",
    "\n",
    "# replace max in each row by 0\n",
    "vector_reshaped[np.arange(4),vector_reshaped.argmax(axis=1)] = 0\n",
    "print(\"The reshaped vector after replace: \" ,vector_reshaped)"
   ]
  },
  {
   "cell_type": "code",
   "execution_count": null,
   "id": "7705b92a",
   "metadata": {},
   "outputs": [],
   "source": []
  }
 ],
 "metadata": {
  "kernelspec": {
   "display_name": "Python 3 (ipykernel)",
   "language": "python",
   "name": "python3"
  },
  "language_info": {
   "codemirror_mode": {
    "name": "ipython",
    "version": 3
   },
   "file_extension": ".py",
   "mimetype": "text/x-python",
   "name": "python",
   "nbconvert_exporter": "python",
   "pygments_lexer": "ipython3",
   "version": "3.9.13"
  }
 },
 "nbformat": 4,
 "nbformat_minor": 5
}
